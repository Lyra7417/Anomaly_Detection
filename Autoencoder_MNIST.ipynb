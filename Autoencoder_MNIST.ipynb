{
  "nbformat": 4,
  "nbformat_minor": 0,
  "metadata": {
    "colab": {
      "name": "Autoencoder_MNIST.ipynb",
      "provenance": [],
      "authorship_tag": "ABX9TyPAh8sHbt8MtbR61q41Ia2h",
      "include_colab_link": true
    },
    "kernelspec": {
      "name": "python3",
      "display_name": "Python 3"
    },
    "accelerator": "GPU"
  },
  "cells": [
    {
      "cell_type": "markdown",
      "metadata": {
        "id": "view-in-github",
        "colab_type": "text"
      },
      "source": [
        "<a href=\"https://colab.research.google.com/github/Lyra7417/Anomaly_Detection/blob/master/Autoencoder_MNIST.ipynb\" target=\"_parent\"><img src=\"https://colab.research.google.com/assets/colab-badge.svg\" alt=\"Open In Colab\"/></a>"
      ]
    },
    {
      "cell_type": "code",
      "metadata": {
        "id": "nBtgtw6cdhis",
        "colab_type": "code",
        "colab": {
          "base_uri": "https://localhost:8080/",
          "height": 73
        },
        "outputId": "f693fce4-aaba-4d35-f2be-6d39cbc54023"
      },
      "source": [
        "import torch\n",
        "import torchvision\n",
        "import torch.nn as nn\n",
        "from torchvision import transforms\n",
        "from torchvision.utils import save_image\n",
        "from torch.autograd import Variable\n",
        "import torch.utils.data as Data\n",
        "import numpy as np\n",
        "import tensorflow as tf\n",
        "from matplotlib import pyplot as plt\n",
        "import seaborn as sns\n",
        "import warnings\n",
        "warnings.filterwarnings('ignore')"
      ],
      "execution_count": 4,
      "outputs": [
        {
          "output_type": "stream",
          "text": [
            "/usr/local/lib/python3.6/dist-packages/statsmodels/tools/_testing.py:19: FutureWarning: pandas.util.testing is deprecated. Use the functions in the public API at pandas.testing instead.\n",
            "  import pandas.util.testing as tm\n"
          ],
          "name": "stderr"
        }
      ]
    },
    {
      "cell_type": "code",
      "metadata": {
        "id": "oqkYLh_GBe-f",
        "colab_type": "code",
        "colab": {}
      },
      "source": [
        "(X_train_original,t_train_original),(X_test_original,t_test_original) = tf.keras.datasets.mnist.load_data()\n",
        "X_train = X_train_original/255.\n",
        "X_test = X_test_original/255.\n",
        "\n",
        "X_normal = [X_train[i] for i in range(len(X_train)) if t_train_original[i]!=0]\n",
        "y_normal = np.ones(len(X_normal))\n",
        "X_anomaly = [X_train[i] for i in range(len(X_train)) if t_train_original[i]==0]\n",
        "\n",
        "X_normal = torch.Tensor(X_normal)\n",
        "X_anomaly = torch.Tensor(X_anomaly)\n",
        "y_normal = torch.Tensor(y_normal)\n",
        "\n",
        "train_data = Data.TensorDataset(X_normal,y_normal)"
      ],
      "execution_count": 0,
      "outputs": []
    },
    {
      "cell_type": "code",
      "metadata": {
        "id": "a6oLzBv6FgRT",
        "colab_type": "code",
        "colab": {}
      },
      "source": [
        "#定义超参数\n",
        "EPOCH = 10\n",
        "BATCH_SIZE = 100\n",
        "LR = 0.005\n",
        "\n",
        "train_loader = torch.utils.data.DataLoader(dataset=train_data, batch_size=BATCH_SIZE, shuffle=True)"
      ],
      "execution_count": 0,
      "outputs": []
    },
    {
      "cell_type": "code",
      "metadata": {
        "id": "hFeGY3YqFmd0",
        "colab_type": "code",
        "colab": {}
      },
      "source": [
        "class AutoEncoder(nn.Module):\n",
        "    def __init__(self):\n",
        "        super(AutoEncoder, self).__init__()\n",
        "\n",
        "        #压缩\n",
        "        self.encoder = nn.Sequential(\n",
        "            nn.Linear(28*28, 500),\n",
        "            nn.Tanh(),\n",
        "            nn.Linear(500, 125),\n",
        "            nn.Tanh(),\n",
        "            nn.Linear(125, 40),\n",
        "            nn.Tanh(),\n",
        "            nn.Linear(40, 5),\n",
        "        )\n",
        "        #解压\n",
        "        self.decoder = nn.Sequential(\n",
        "            nn.Linear(5, 40),\n",
        "            nn.Tanh(),\n",
        "            nn.Linear(40, 125),\n",
        "            nn.Tanh(),\n",
        "            nn.Linear(125, 500),\n",
        "            nn.Tanh(),\n",
        "            nn.Linear(500, 28*28),\n",
        "            nn.Sigmoid(),       #Sigmooid函数让输出值在(0, 1)\n",
        "        )\n",
        "\n",
        "    def forward(self, x):\n",
        "        encoded = self.encoder(x)\n",
        "        decoded = self.decoder(encoded)\n",
        "        return encoded, decoded\n",
        "\n",
        "autoencoder = AutoEncoder()"
      ],
      "execution_count": 0,
      "outputs": []
    },
    {
      "cell_type": "code",
      "metadata": {
        "id": "1frZbtW6M9IN",
        "colab_type": "code",
        "colab": {}
      },
      "source": [
        "optimizer = torch.optim.Adam(autoencoder.parameters(), lr=LR)\n",
        "loss_func = nn.MSELoss()\n",
        "\n",
        "for epoch in range(EPOCH):\n",
        "    for step, (x,y) in enumerate(train_loader):\n",
        "        b_x = Variable(x.view(-1, 28*28))   #batch x, shape (batch, 28*28)\n",
        "        b_y = Variable(x.view(-1, 28*28))   #batch y, shape (batch, 28*28)\n",
        " \n",
        "        encoded, decoded = autoencoder(b_x)\n",
        " \n",
        "        loss = loss_func(decoded, b_y)     #mean square error\n",
        "        optimizer.zero_grad()           #clear gradients for this training step\n",
        "        loss.backward()              #backpropagation, compute gradients\n",
        "        optimizer.step()              #apply gradients"
      ],
      "execution_count": 0,
      "outputs": []
    },
    {
      "cell_type": "code",
      "metadata": {
        "id": "8pZJJDNvNMXk",
        "colab_type": "code",
        "colab": {
          "base_uri": "https://localhost:8080/",
          "height": 327
        },
        "outputId": "97787737-c796-4ad0-c51e-718e7e168ddd"
      },
      "source": [
        "def Reconstruct_error(model, data):\n",
        "    input_data = Variable(data.view(-1, 28*28).type(torch.FloatTensor))\n",
        "    _, output_data = autoencoder(input_data)\n",
        "    input_data, output_data = input_data.detach().numpy(), output_data.detach().numpy()\n",
        "    #二值化\n",
        "    \n",
        "    MSE = np.sum((output_data-input_data)**2,axis = 1)\n",
        "    return MSE\n",
        "\n",
        "err_normal = Reconstruct_error(autoencoder, train_loader.dataset.tensors[0])\n",
        "err_anomaly = Reconstruct_error(autoencoder, X_anomaly)\n",
        "\n",
        "plt.figure(figsize = (14,4.5))\n",
        "plt.subplot(121)\n",
        "plt.title('Normal')\n",
        "sns.kdeplot(err_normal,shade=True)\n",
        "plt.subplot(122)\n",
        "plt.title('Anomaly')\n",
        "sns.kdeplot(err_anomaly,shade=True)"
      ],
      "execution_count": 27,
      "outputs": [
        {
          "output_type": "execute_result",
          "data": {
            "text/plain": [
              "<matplotlib.axes._subplots.AxesSubplot at 0x7f86941717b8>"
            ]
          },
          "metadata": {
            "tags": []
          },
          "execution_count": 27
        },
        {
          "output_type": "display_data",
          "data": {
            "image/png": "[encoded data removed]",
            "text/plain": [
              "<Figure size 1008x324 with 2 Axes>"
            ]
          },
          "metadata": {
            "tags": [],
            "needs_background": "light"
          }
        }
      ]
    },
    {
      "cell_type": "code",
      "metadata": {
        "id": "OMMHqp4zOdiV",
        "colab_type": "code",
        "colab": {
          "base_uri": "https://localhost:8080/",
          "height": 53
        },
        "outputId": "69bdd0d3-799a-4105-cf7e-7832e95bff13"
      },
      "source": [
        "y_test = t_test_original==0\n",
        "\n",
        "X_test = torch.tensor(X_test).float()\n",
        "err = Reconstruct_error(autoencoder, X_test)\n",
        "yhat = err>35\n",
        "\n",
        "anom_test = yhat[y_test]\n",
        "anomaly_accuracy = np.sum(anom_test)/len(anom_test)\n",
        "nom_test = ~yhat[~(y_test)]\n",
        "normal_accuracy = np.sum(nom_test)/len(nom_test)\n",
        "print(\"Normal accuracy:\",normal_accuracy)\n",
        "print(\"Anomaly accuracy:\",anomaly_accuracy)"
      ],
      "execution_count": 25,
      "outputs": [
        {
          "output_type": "stream",
          "text": [
            "Normal accuracy: 0.8666297117516629\n",
            "Anomaly accuracy: 0.9418367346938775\n"
          ],
          "name": "stdout"
        }
      ]
    }
  ]
}