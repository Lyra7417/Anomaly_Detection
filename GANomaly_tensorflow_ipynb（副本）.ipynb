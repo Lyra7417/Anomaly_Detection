{
  "nbformat": 4,
  "nbformat_minor": 0,
  "metadata": {
    "colab": {
      "name": "GANomaly-tensorflow.ipynb（副本）",
      "provenance": [],
      "collapsed_sections": [],
      "mount_file_id": "1HvBq0OHNavq-1xhKRzXVTjMR1v2L0V-a",
      "authorship_tag": "ABX9TyNZsbZoPfaCdcJKiDFW2x4p",
      "include_colab_link": true
    },
    "kernelspec": {
      "name": "python3",
      "display_name": "Python 3"
    },
    "accelerator": "GPU"
  },
  "cells": [
    {
      "cell_type": "markdown",
      "metadata": {
        "id": "view-in-github",
        "colab_type": "text"
      },
      "source": [
        "<a href=\"https://colab.research.google.com/github/Lyra7417/Anomaly_Detection/blob/master/GANomaly_tensorflow_ipynb%EF%BC%88%E5%89%AF%E6%9C%AC%EF%BC%89.ipynb\" target=\"_parent\"><img src=\"https://colab.research.google.com/assets/colab-badge.svg\" alt=\"Open In Colab\"/></a>"
      ]
    },
    {
      "cell_type": "code",
      "metadata": {
        "id": "rKTD8lqdDAX1",
        "colab_type": "code",
        "colab": {}
      },
      "source": [
        "class Options(object):\n",
        "  pass\n",
        "\n",
        "def get_config(is_train):\n",
        "  opts = Options()\n",
        "  if is_train:\n",
        "    opts.batch_size = 300\n",
        "    opts.isize = 32\n",
        "    opts.lr = 1e-4\n",
        "    opts.iteration = 15    \n",
        "    opts.ckpt_dir = \"ckpt\"\n",
        "    opts.z_size = 100\n",
        "    opts.image_channel=1    \n",
        "    opts.dis_filter=64\n",
        "    opts.gen_filter=64\n",
        "    opts.n_extra_layers=0\n",
        "    opts.test_batch_size = 300\n",
        "  else:\n",
        "    opts.batch_size = 5\n",
        "    opts.im_size = [128, 128]\n",
        "\n",
        "    opts.result_dir = \"result\"\n",
        "    opts.ckpt_dir = \"ckpt\"\n",
        "\n",
        "  return opts"
      ],
      "execution_count": 0,
      "outputs": []
    },
    {
      "cell_type": "code",
      "metadata": {
        "id": "UNGtA3vVKJN7",
        "colab_type": "code",
        "outputId": "b595454a-694a-46af-f0ee-a467cf833d7e",
        "colab": {
          "base_uri": "https://localhost:8080/",
          "height": 390
        }
      },
      "source": [
        "!pip install tensorflow-gpu==1.15"
      ],
      "execution_count": 2,
      "outputs": [
        {
          "output_type": "stream",
          "text": [
            "Requirement already satisfied: tensorflow-gpu==1.15 in /usr/local/lib/python3.6/dist-packages (1.15.0)\n",
            "Requirement already satisfied: keras-applications>=1.0.8 in /usr/local/lib/python3.6/dist-packages (from tensorflow-gpu==1.15) (1.0.8)\n",
            "Requirement already satisfied: absl-py>=0.7.0 in /usr/local/lib/python3.6/dist-packages (from tensorflow-gpu==1.15) (0.9.0)\n",
            "Requirement already satisfied: numpy<2.0,>=1.16.0 in /usr/local/lib/python3.6/dist-packages (from tensorflow-gpu==1.15) (1.18.3)\n",
            "Requirement already satisfied: opt-einsum>=2.3.2 in /usr/local/lib/python3.6/dist-packages (from tensorflow-gpu==1.15) (3.2.1)\n",
            "Requirement already satisfied: termcolor>=1.1.0 in /usr/local/lib/python3.6/dist-packages (from tensorflow-gpu==1.15) (1.1.0)\n",
            "Requirement already satisfied: keras-preprocessing>=1.0.5 in /usr/local/lib/python3.6/dist-packages (from tensorflow-gpu==1.15) (1.1.0)\n",
            "Requirement already satisfied: google-pasta>=0.1.6 in /usr/local/lib/python3.6/dist-packages (from tensorflow-gpu==1.15) (0.2.0)\n",
            "Requirement already satisfied: wrapt>=1.11.1 in /usr/local/lib/python3.6/dist-packages (from tensorflow-gpu==1.15) (1.12.1)\n",
            "Requirement already satisfied: wheel>=0.26 in /usr/local/lib/python3.6/dist-packages (from tensorflow-gpu==1.15) (0.34.2)\n",
            "Requirement already satisfied: tensorflow-estimator==1.15.1 in /usr/local/lib/python3.6/dist-packages (from tensorflow-gpu==1.15) (1.15.1)\n",
            "Requirement already satisfied: gast==0.2.2 in /usr/local/lib/python3.6/dist-packages (from tensorflow-gpu==1.15) (0.2.2)\n",
            "Requirement already satisfied: astor>=0.6.0 in /usr/local/lib/python3.6/dist-packages (from tensorflow-gpu==1.15) (0.8.1)\n",
            "Requirement already satisfied: protobuf>=3.6.1 in /usr/local/lib/python3.6/dist-packages (from tensorflow-gpu==1.15) (3.10.0)\n",
            "Requirement already satisfied: tensorboard<1.16.0,>=1.15.0 in /usr/local/lib/python3.6/dist-packages (from tensorflow-gpu==1.15) (1.15.0)\n",
            "Requirement already satisfied: six>=1.10.0 in /usr/local/lib/python3.6/dist-packages (from tensorflow-gpu==1.15) (1.12.0)\n",
            "Requirement already satisfied: grpcio>=1.8.6 in /usr/local/lib/python3.6/dist-packages (from tensorflow-gpu==1.15) (1.28.1)\n",
            "Requirement already satisfied: h5py in /usr/local/lib/python3.6/dist-packages (from keras-applications>=1.0.8->tensorflow-gpu==1.15) (2.10.0)\n",
            "Requirement already satisfied: setuptools in /usr/local/lib/python3.6/dist-packages (from protobuf>=3.6.1->tensorflow-gpu==1.15) (46.1.3)\n",
            "Requirement already satisfied: werkzeug>=0.11.15 in /usr/local/lib/python3.6/dist-packages (from tensorboard<1.16.0,>=1.15.0->tensorflow-gpu==1.15) (1.0.1)\n",
            "Requirement already satisfied: markdown>=2.6.8 in /usr/local/lib/python3.6/dist-packages (from tensorboard<1.16.0,>=1.15.0->tensorflow-gpu==1.15) (3.2.1)\n"
          ],
          "name": "stdout"
        }
      ]
    },
    {
      "cell_type": "code",
      "metadata": {
        "id": "bLietoeqKvdW",
        "colab_type": "code",
        "outputId": "c0d30246-2a60-4295-9612-2066335abea7",
        "colab": {
          "base_uri": "https://localhost:8080/",
          "height": 35
        }
      },
      "source": [
        "import tensorflow as tf\n",
        "print(tf.__version__)"
      ],
      "execution_count": 3,
      "outputs": [
        {
          "output_type": "stream",
          "text": [
            "1.15.0\n"
          ],
          "name": "stdout"
        }
      ]
    },
    {
      "cell_type": "code",
      "metadata": {
        "id": "dMLUtEXoFUPP",
        "colab_type": "code",
        "outputId": "1a28d661-4612-41b6-8461-bd85c2e2c83c",
        "colab": {
          "base_uri": "https://localhost:8080/",
          "height": 268
        }
      },
      "source": [
        "from __future__ import print_function\n",
        "from tensorflow.python.keras.layers import Input, Reshape, Dense, Dropout, MaxPooling2D, Conv2D, Flatten\n",
        "from tensorflow.python.keras.layers import Conv2DTranspose\n",
        "from tensorflow.python.keras.layers import LeakyReLU\n",
        "from tensorflow.python.keras.layers import Activation\n",
        "from tensorflow.python.keras.optimizers import Adam\n",
        "from tensorflow.python.keras import backend as K\n",
        "from tensorflow.python.keras import initializers\n",
        "import numpy as np\n",
        "from tqdm import tqdm\n",
        "import cv2\n",
        "import math\n",
        "from keras.utils. generic_utils import Progbar\n",
        "from sklearn.metrics import roc_curve, auc\n",
        "import matplotlib.pyplot as plt\n",
        "\n",
        "''' calculate the auc value for lables and scores'''\n",
        "def roc(labels, scores, saveto=None):\n",
        "    \"\"\"Compute ROC curve and ROC area for each class\"\"\"\n",
        "    roc_auc = dict()\n",
        "    # True/False Positive Rates.\n",
        "    fpr, tpr, _ = roc_curve(labels, scores)\n",
        "    roc_auc = auc(fpr, tpr)\n",
        "    return roc_auc\n",
        "\n",
        "'''resize the images in batches'''\n",
        "def batch_resize(imgs, size):\n",
        "    img_out = np.empty([imgs.shape[0], size[0], size[1]])\n",
        "    for i in range(imgs.shape[0]):\n",
        "        img_out[i] = cv2.resize(imgs[i], size, interpolation=cv2.INTER_CUBIC)\n",
        "    return img_out\n",
        "\n",
        "''' type-1 loss and type2 loss'''\n",
        "def l1_loss(y_true, y_pred):\n",
        "    return K.mean(K.abs(y_pred - y_true))\n",
        "\n",
        "def l2_loss(y_true, y_pred):\n",
        "    return K.mean(K.square(y_pred - y_true))\n",
        "\n",
        "def bce_loss(y_pred,y_true):\n",
        "    return tf.reduce_mean(tf.nn.sigmoid_cross_entropy_with_logits(labels=y_true,\n",
        "                                                                  logits=y_pred))\n",
        "#    return -tf.reduce_mean(y_true * tf.log(y_pred)+(1-y_true)* tf.log(1-y_pred))\n",
        "\n",
        "'''Tensorflow based batch normalizatioin'''\n",
        "def batch_norm(x, name, momentum=0.9, epsilon=1e-5, is_train=True):\n",
        "  return tf.contrib.layers.batch_norm(x, \n",
        "    decay=momentum,\n",
        "    updates_collections=None,\n",
        "    epsilon=epsilon,\n",
        "    scale=True,\n",
        "    is_training=is_train, \n",
        "    scope=name)\n",
        "\n",
        "\n",
        "def Encoder(inputs, opts, istrain=True, name='e1'):\n",
        "    assert opts.isize % 16 == 0, \"isize has to be a multiple of 16\"\n",
        "\n",
        "    ''' initial layer'''\n",
        "    x = Conv2D(opts.gen_filter, (4, 4), strides=2, padding='same', use_bias=False)(inputs)\n",
        "    x = LeakyReLU(0.2)(x)\n",
        "    size_now = opts.isize // 2\n",
        "\n",
        "    ''' Extra layers'''\n",
        "    for t in range(opts.n_extra_layers):\n",
        "        x = Conv2D(opts.gen_filter, (3, 3), padding='same', use_bias=False)(x)\n",
        "        x = batch_norm(x, name+\"_bn1_\"+str(t), is_train=istrain)\n",
        "        x = LeakyReLU(0.2)(x)\n",
        "\n",
        "    channel = opts.gen_filter # channel: default number is 64\n",
        "\n",
        "    ''' reduction layers'''\n",
        "    while size_now > 4:\n",
        "        x = Conv2D(channel*2, (4, 4), strides=2, padding='same', use_bias=False)(x)\n",
        "        x = batch_norm(x, name+\"_bn2_\"+str(channel), is_train=istrain)\n",
        "        x = LeakyReLU(0.2)(x)    \n",
        "        channel = channel*2\n",
        "        size_now = size_now // 2      \n",
        "\n",
        "    # state size. channel x 4 x 4        \n",
        "\n",
        "    ''' final layer, resize the layer to channel X 1 X 1'''\n",
        "    output = Conv2D(opts.z_size, (4, 4), padding='valid', use_bias=False)(x)\n",
        "\n",
        "    return output\n",
        "\n",
        "\n",
        "def Decoder(inputs, opts,istrain=True):\n",
        "    assert opts.isize % 16 == 0, \"isize has to be a multiple of 16\"\n",
        "\n",
        "    cngf, tisize = opts.dis_filter // 2, 4\n",
        "\n",
        "    while tisize != opts.isize:\n",
        "        cngf = cngf * 2  # after loop, cngf reaches to 256\n",
        "        tisize = tisize * 2\n",
        "\n",
        "    '''z is input, and first deconvolution layer to size channel * 4 * 4'''\n",
        "    x = Conv2DTranspose(cngf, (4, 4), padding='valid', use_bias=False )(inputs)\n",
        "    x = batch_norm(x, \"bn1\", is_train=istrain)\n",
        "    x = Activation('relu')(x)   \n",
        "\n",
        "    '''size increaing layers '''\n",
        "    size_now = 4\n",
        "\n",
        "    while size_now < opts.isize // 2:\n",
        "        x = Conv2DTranspose(cngf//2, (4, 4),strides=2, padding='same', use_bias=False )(x)\n",
        "        x = batch_norm(x, \"bn2_\"+str(size_now), is_train=istrain)\n",
        "        x = Activation('relu')(x)      \n",
        "        cngf = cngf // 2\n",
        "        size_now = size_now*2\n",
        "\n",
        "    '''extral layers, keep the channel and size of the layers same'''\n",
        "    for t in range(opts.n_extra_layers):\n",
        "        x = Conv2DTranspose(cngf, (3, 3), padding='same', use_bias=False )(x)\n",
        "        x = batch_norm(x, \"bn3_\"+str(t), is_train=istrain)\n",
        "        x = Activation('relu')(x)   \n",
        "\n",
        "    ''' final layer, expand the size with 2 and channel of n_output_channel'''\n",
        "    x = Conv2DTranspose(opts.image_channel, (4, 4),strides=2, padding='same', use_bias=False )(x)\n",
        "    x = Activation('tanh')(x)       \n",
        "\n",
        "    return x\n",
        "\n",
        "\n",
        "'''generator is the encoder->decoder->encoder structure'''\n",
        "def generator(inputs, opts, istrain=True):\n",
        "    with tf.variable_scope('gen_'):\n",
        "        z = Encoder(inputs, opts, istrain=istrain, name='e1')\n",
        "        x_star = Decoder(z, opts, istrain=istrain)\n",
        "        z_star = Encoder(x_star, opts, istrain=istrain, name='e2')\n",
        "    return x_star, z, z_star\n",
        "\n",
        "\n",
        "'''discriminator is the same as discriminator from DCGAN'''\n",
        "def discriminator(inputs, opts, reuse=False, istrain=True, name='d1'):\n",
        "    with tf.variable_scope('dis_', reuse=reuse):\n",
        "\n",
        "        ''' initial layer'''\n",
        "        x = Conv2D(opts.gen_filter, (4, 4), strides=2, padding='same', use_bias=False)(inputs)\n",
        "        x = LeakyReLU(0.2)(x)\n",
        "        size_now = opts.isize // 2\n",
        "\n",
        "        ''' Extra layers'''\n",
        "        for t in range(opts.n_extra_layers):\n",
        "            x = Conv2D(opts.gen_filter, (3, 3), padding='same', use_bias=False)(x)\n",
        "            x = batch_norm(x, name+\"_bn1_\"+str(t), is_train=istrain)\n",
        "            x = LeakyReLU(0.2)(x)\n",
        "    \n",
        "        channel = opts.gen_filter # channel: default number is 64\n",
        "\n",
        "        ''' reduction layers'''\n",
        "        while size_now > 4:\n",
        "            x = Conv2D(channel*2, (4, 4), strides=2, padding='same', use_bias=False)(x)\n",
        "            x = batch_norm(x, name+\"_bn2_\"+str(channel), is_train=istrain)\n",
        "            x = LeakyReLU(0.2)(x)    \n",
        "            channel = channel*2\n",
        "            size_now = size_now // 2\n",
        "\n",
        "        feature = x\n",
        "\n",
        "        # state size. channel x 4 x 4        \n",
        "\n",
        "\n",
        "        x = Conv2D(1, (4, 4), padding='valid', use_bias=False)(x)\n",
        "        x = Flatten()(x)\n",
        "        classifier = Dense(1)(x)\n",
        "\n",
        "        return feature, classifier\n",
        "             \n",
        "\n",
        "'''discriminator and generator together class'''\n",
        "class Ganormal(object):\n",
        "    def __init__(self, sess, opts):                  \n",
        "       self.sess = sess\n",
        "       self.is_train = tf.placeholder(tf.bool)\n",
        "       self.imsize = opts.isize\n",
        "       self.im_shape = [opts.batch_size, opts.isize, opts.isize, 1]\n",
        "       self.img_input = tf.placeholder(tf.float32, self.im_shape)\n",
        "       self.opts = opts\n",
        "\n",
        "       '''0 create model'''   \n",
        "       with tf.variable_scope(tf.get_variable_scope(), reuse=tf.AUTO_REUSE):\n",
        "           self.img_gen, self.latent_z, self.latent_z_gen = generator(self.img_input, self.opts, self.is_train)\n",
        "           self.feature_fake, self.label_fake = discriminator(self.img_gen, self.opts,False, self.is_train)\n",
        "           self.feature_real, self.label_real = discriminator(self.img_input,self.opts,True, self.is_train)\n",
        "\n",
        "       self.t_vars = tf.trainable_variables()\n",
        "       self.d_vars = [var for var in self.t_vars if 'dis_' in var.name]\n",
        "       self.g_vars = [var for var in self.t_vars if 'gen_' in var.name]\n",
        "\n",
        "       '''1 create losses'''\n",
        "       self.adv_loss = l2_loss(self.feature_fake,self.feature_real )\n",
        "       self.context_loss = l1_loss(self.img_input, self.img_gen)\n",
        "       self.encoder_loss = l2_loss(self.latent_z, self.latent_z_gen)\n",
        "       self.generator_loss = 0.5*self.adv_loss +50*self.context_loss + 1*self.encoder_loss\n",
        "\n",
        "       '''dis loss: real label reach to 1 and fake label reach to 0'''\n",
        "       self.real_loss = bce_loss(self.label_real, tf.ones_like(self.label_real)) # real reach to 1\n",
        "       self.fake_loss = bce_loss(self.label_fake, tf.zeros_like(self.label_fake))\n",
        "       self.feature_loss = self.real_loss + self.fake_loss #-l2_loss(self.feature_fake, self.feature_real)#\n",
        "       self.discriminator_loss = self.feature_loss\n",
        "\n",
        "       '''2 optimize the loss, learning rate and beta1 is from Original code of Pytorch '''\n",
        "       update_ops = tf.get_collection(tf.GraphKeys.UPDATE_OPS)\n",
        "       with tf.control_dependencies(update_ops):\n",
        "           with tf.variable_scope(tf.get_variable_scope(), reuse=None):\n",
        "               self.gen_train_op = tf.train.AdamOptimizer(\n",
        "                   learning_rate=2e-3,beta1=0.5,beta2=0.999).minimize(self.generator_loss,var_list=self.g_vars)\n",
        "               self.dis_train_op = tf.train.AdamOptimizer(\n",
        "                   learning_rate=2e-3,beta1=0.5,beta2=0.999).minimize(self.discriminator_loss,var_list=self.d_vars)\n",
        "\n",
        "       '''3 save the model '''    \n",
        "       self.saver = tf.train.Saver()\n",
        "\n",
        "       '''4 initialization'''\n",
        "       self.sess.run(tf.global_variables_initializer())\n",
        "\n",
        "    ''' generator training in keras style'''\n",
        "    def gen_fit(self, batch_x):    \n",
        "        _, loss,al,cl,el  = self.sess.run([self.gen_train_op, \n",
        "                                  self.generator_loss,\n",
        "                                  self.adv_loss,\n",
        "                                  self.context_loss,\n",
        "                                  self.encoder_loss], \n",
        "                               {self.img_input:batch_x,self.is_train: True,})\n",
        "        return loss,al,cl,el\n",
        "\n",
        "    \n",
        "\n",
        "    ''' discriminator training in keras style'''\n",
        "    def dis_fit(self, batch_x):     \n",
        "        _, loss,dis_real_loss, dis_fake_loss  = self.sess.run([self.dis_train_op, \n",
        "                                  self.discriminator_loss,\n",
        "                                  self.real_loss,\n",
        "                                  self.fake_loss], \n",
        "                              {self.img_input:batch_x,self.is_train: True,})\n",
        "        return loss, dis_real_loss, dis_fake_loss\n",
        "\n",
        "    ''' train the model in dis and gen'''\n",
        "    def train(self, batch_x):\n",
        "        gen_loss,al,cl,el = self.gen_fit(batch_x)\n",
        "        _, dis_real_loss, dis_fake_loss  = self.dis_fit(batch_x)\n",
        "\n",
        "        # If D loss is zero, then re-initialize netD\n",
        "        if dis_real_loss < 1e-5 or dis_fake_loss < 1e-5:    \n",
        "            init_op = tf.variables_initializer(self.d_vars)\n",
        "            self.sess.run(init_op)\n",
        "#            print('reinitialize')\n",
        "        return gen_loss, al,dis_real_loss,dis_fake_loss\n",
        "\n",
        "    def evaluate(self, whole_x, whole_y):\n",
        "        bs = self.opts.test_batch_size\n",
        "        labels_out, scores_out = [], []     \n",
        "        \n",
        "        index = 1\n",
        "        for index in range(int(whole_x.shape[0] / bs)):\n",
        "            batch_x = whole_x[index*bs:(index+1)*bs]\n",
        "            batch_y = whole_y[index*bs:(index+1)*bs]\n",
        "            latent_loss, latent_gen_loss = self.sess.run([self.latent_z, \n",
        "                                  self.latent_z_gen], \n",
        "                                 {self.img_input:batch_x,self.is_train: False,})\n",
        "\n",
        "            latent_error = np.mean(abs(latent_loss - latent_gen_loss), axis=-1) \n",
        "            latent_error = np.reshape(latent_error, [-1])\n",
        "            scores_out = np.append(scores_out, latent_error)\n",
        "            labels_out = np.append(labels_out, batch_y)\n",
        "\n",
        "            '''Scale scores vector between [0, 1]'''\n",
        "            scores_out = (scores_out - scores_out.min())/(scores_out.max()-scores_out.min())\n",
        "  \n",
        "        '''calculate the roc value'''\n",
        "        auc_out = roc(labels_out, scores_out)\n",
        "        return scores_out, labels_out, auc_out\n",
        "\n",
        "\n",
        "    def save(self, dir_path):\n",
        "        self.saver.save(self.sess, dir_path+\"/model.ckpt\")\n",
        "\n",
        "    '''show the generated images'''\n",
        "    def show(self,single_x):\n",
        "        generated_img = self.sess.run(self.img_gen, {self.img_input:single_x, self.is_train:False})\n",
        "        \n",
        "        fig = plt.figure()\n",
        "        ax1, ax2 = fig.subplots(1, 2, sharey=True)\n",
        "        ax1.imshow(generated_img[0,:,:,0],cmap='gray')\n",
        "        ax1.set_xticks([])\n",
        "        ax1.set_yticks([])\n",
        "\n",
        "        ax2.imshow(single_x[0,:,:,0],cmap='gray')\n",
        "        ax2.set_xticks([])\n",
        "        ax2.set_yticks([])  \n",
        "        plt.show()\n",
        "\n",
        "        return generated_img[0,:,:,0], single_x[0,:,:,0]\n",
        "\n",
        "if __name__ == \"__main__\":  \n",
        "    opts = get_config(is_train=True)      \n",
        "    inputs = tf.placeholder(tf.float32, [None, 32, 32, 1])       \n",
        "#    gen_test,z_test,z_star_test = generator(inputs, opts, istrain=True)\n",
        "    feature_test, dis_test = discriminator(inputs, opts,tf.AUTO_REUSE,True)\n",
        "#    print(gen_test)\n",
        "    print(feature_test, dis_test)"
      ],
      "execution_count": 4,
      "outputs": [
        {
          "output_type": "stream",
          "text": [
            "Using TensorFlow backend.\n"
          ],
          "name": "stderr"
        },
        {
          "output_type": "stream",
          "text": [
            "WARNING:tensorflow:From /usr/local/lib/python3.6/dist-packages/tensorflow_core/python/ops/resource_variable_ops.py:1630: calling BaseResourceVariable.__init__ (from tensorflow.python.ops.resource_variable_ops) with constraint is deprecated and will be removed in a future version.\n",
            "Instructions for updating:\n",
            "If using Keras pass *_constraint arguments to layers.\n",
            "WARNING:tensorflow:\n",
            "The TensorFlow contrib module will not be included in TensorFlow 2.0.\n",
            "For more information, please see:\n",
            "  * https://github.com/tensorflow/community/blob/master/rfcs/20180907-contrib-sunset.md\n",
            "  * https://github.com/tensorflow/addons\n",
            "  * https://github.com/tensorflow/io (for I/O related ops)\n",
            "If you depend on functionality not listed there, please file an issue.\n",
            "\n",
            "Tensor(\"dis_/leaky_re_lu_2/LeakyRelu:0\", shape=(?, 4, 4, 256), dtype=float32) Tensor(\"dis_/dense/BiasAdd:0\", shape=(?, 1), dtype=float32)\n"
          ],
          "name": "stdout"
        }
      ]
    },
    {
      "cell_type": "code",
      "metadata": {
        "id": "8DLb77mp3UB6",
        "colab_type": "code",
        "outputId": "4f24e798-8db9-446a-fcda-14212c149018",
        "colab": {
          "base_uri": "https://localhost:8080/",
          "height": 1000
        }
      },
      "source": [
        "import os\n",
        "import cv2\n",
        "import numpy as np\n",
        "import matplotlib.pyplot as plt\n",
        "from keras.datasets import mnist\n",
        "import tensorflow as tf\n",
        "from tqdm import tqdm\n",
        "\n",
        "\n",
        "if __name__ == \"__main__\":  \n",
        "    ''' 0. prepare mnist data '''\n",
        "    anomaly = 2\n",
        "    (x_train, y_train), (x_test, y_test) = mnist.load_data()\n",
        "\n",
        "    '''normalized the dataset'''\n",
        "    x_train = (x_train.astype(np.float32) / 255.0 - 0.1307) / 0.3081\n",
        "    x_test = (x_test.astype(np.float32) / 255.0 - 0.1307) / 0.3081\n",
        "   \n",
        "\n",
        "    ''' training takes only numbers without n, here n default is 2, because number 2\n",
        "        shows the best performance in the manuscript\n",
        "        and test takes every numbers. and set label-2 class as 1, other sest is to 0.\n",
        "        resize the images into 32*32 size in order to fit the model input\n",
        "    '''\n",
        "    x_train = x_train[y_train != anomaly] \n",
        "    x_train = batch_resize(x_train,(32,32)) \n",
        "    x_test = batch_resize(x_test,(32,32))\n",
        "    y_test = 1*(y_test==anomaly)\n",
        "\n",
        "    '''add one new axis to fit the model input'''\n",
        "    x_train = x_train[:,:,:,None]\n",
        "    x_test = x_test[:,:,:,None]\n",
        "\n",
        "    print ('train shape:', x_train.shape)\n",
        "    print ('test shape:', x_test.shape)\n",
        "    \n",
        "    '''1. train model and evaluate on test data by AUC '''\n",
        "    sess = tf.Session()   \n",
        "    opts = get_config(is_train=True)    \n",
        "    model = Ganormal(sess, opts)\n",
        "\n",
        "    ''' \n",
        "    start training\n",
        "    '''    \n",
        "    auc_all = []\n",
        "\n",
        "    for i in range(opts.iteration):\n",
        "        loss_train_all = []\n",
        "        loss_test_all = []\n",
        "        real_losses = []\n",
        "        fake_losses = []\n",
        "        enco_losses = []\n",
        "\n",
        "        '''shuffle data in each epoch'''\n",
        "        permutated_indexes = np.random.permutation(x_train.shape[0])\n",
        "\n",
        "        '''decay the learning rate. we don't do that in tensorflow way because it is more easier to fine-tuning'''\n",
        "        for index in tqdm(range(int(x_train.shape[0] / opts.batch_size))):\n",
        "            batch_indexes = permutated_indexes[index*opts.batch_size:(index+1)*opts.batch_size]\n",
        "            batch_x = x_train[batch_indexes]\n",
        "            loss, al,cl,el = model.train(batch_x)\n",
        "            loss_train_all.append(loss)\n",
        "            real_losses.append(al)\n",
        "            fake_losses.append(cl)\n",
        "            enco_losses.append(el)\n",
        "\n",
        "        print(\"iter {:>6d} :{:.4f} a:{:.4f} c {:.4f} e{:.4f}\".format(i+1, np.mean(loss_train_all),\n",
        "                                                  np.mean(al),\n",
        "                                                  np.mean(cl),\n",
        "                                                  np.mean(el)))\n",
        "\n",
        "        g1, r1 = model.show(batch_x)    \n",
        "\n",
        "        ''' evaluate the model with test dataset and calculate the AUC value'''\n",
        "        if (i+1) % 1 == 0:\n",
        "            scores_out, labels_out, auc_out = model.evaluate(x_test, y_test)\n",
        "\n",
        "            print(\"iter {:>6d} :AUC {}\".format(i+1, auc_out))\n",
        "          \n",
        "            auc_all.append(auc_out)\n",
        "\n",
        "        '''save the model'''\n",
        "        if (i+1) % 4 ==0:\n",
        "            model.save(opts.ckpt_dir)\n",
        "       \n",
        "    '''visualization'''\n",
        "    plt.plot(auc_all)\n",
        "    plt.xlabel('iteration')\n",
        "    plt.ylabel('AUC value on test dataset')\n",
        "    plt.grid(True)\n",
        "    plt.show()"
      ],
      "execution_count": 5,
      "outputs": [
        {
          "output_type": "stream",
          "text": [
            "train shape: (54042, 32, 32, 1)\n",
            "test shape: (10000, 32, 32, 1)\n",
            "WARNING:tensorflow:From /usr/local/lib/python3.6/dist-packages/tensorflow_core/python/ops/nn_impl.py:183: where (from tensorflow.python.ops.array_ops) is deprecated and will be removed in a future version.\n",
            "Instructions for updating:\n",
            "Use tf.where in 2.0, which has the same broadcast rule as np.where\n"
          ],
          "name": "stdout"
        },
        {
          "output_type": "stream",
          "text": [
            "100%|██████████| 180/180 [00:18<00:00,  9.88it/s]\n"
          ],
          "name": "stderr"
        },
        {
          "output_type": "stream",
          "text": [
            "iter      1 :19.5691 a:0.8625 c 0.0003 e0.0002\n"
          ],
          "name": "stdout"
        },
        {
          "output_type": "display_data",
          "data": {
            "image/png": "[encoded data removed]",
            "text/plain": [
              "<Figure size 432x288 with 2 Axes>"
            ]
          },
          "metadata": {
            "tags": []
          }
        },
        {
          "output_type": "stream",
          "text": [
            "  1%|          | 2/180 [00:00<00:12, 13.84it/s]"
          ],
          "name": "stderr"
        },
        {
          "output_type": "stream",
          "text": [
            "iter      1 :AUC 0.885055132207069\n"
          ],
          "name": "stdout"
        },
        {
          "output_type": "stream",
          "text": [
            "100%|██████████| 180/180 [00:13<00:00, 13.47it/s]\n"
          ],
          "name": "stderr"
        },
        {
          "output_type": "stream",
          "text": [
            "iter      2 :13.2534 a:0.8647 c 0.0001 e0.0000\n"
          ],
          "name": "stdout"
        },
        {
          "output_type": "display_data",
          "data": {
            "image/png": "[encoded data removed]",
            "text/plain": [
              "<Figure size 432x288 with 2 Axes>"
            ]
          },
          "metadata": {
            "tags": []
          }
        },
        {
          "output_type": "stream",
          "text": [
            "  1%|          | 2/180 [00:00<00:13, 13.32it/s]"
          ],
          "name": "stderr"
        },
        {
          "output_type": "stream",
          "text": [
            "iter      2 :AUC 0.9105815208192863\n"
          ],
          "name": "stdout"
        },
        {
          "output_type": "stream",
          "text": [
            "100%|██████████| 180/180 [00:14<00:00, 12.75it/s]\n"
          ],
          "name": "stderr"
        },
        {
          "output_type": "stream",
          "text": [
            "iter      3 :12.3305 a:0.9048 c 0.0005 e0.0009\n"
          ],
          "name": "stdout"
        },
        {
          "output_type": "display_data",
          "data": {
            "image/png": "[encoded data removed]",
            "text/plain": [
              "<Figure size 432x288 with 2 Axes>"
            ]
          },
          "metadata": {
            "tags": []
          }
        },
        {
          "output_type": "stream",
          "text": [
            "  1%|          | 2/180 [00:00<00:13, 13.63it/s]"
          ],
          "name": "stderr"
        },
        {
          "output_type": "stream",
          "text": [
            "iter      3 :AUC 0.840053612028669\n"
          ],
          "name": "stdout"
        },
        {
          "output_type": "stream",
          "text": [
            "100%|██████████| 180/180 [00:13<00:00, 13.53it/s]\n"
          ],
          "name": "stderr"
        },
        {
          "output_type": "stream",
          "text": [
            "iter      4 :11.9733 a:0.9132 c 0.0001 e0.0002\n"
          ],
          "name": "stdout"
        },
        {
          "output_type": "display_data",
          "data": {
            "image/png": "[encoded data removed]",
            "text/plain": [
              "<Figure size 432x288 with 2 Axes>"
            ]
          },
          "metadata": {
            "tags": []
          }
        },
        {
          "output_type": "stream",
          "text": [
            "iter      4 :AUC 0.8722558467404699\n"
          ],
          "name": "stdout"
        },
        {
          "output_type": "stream",
          "text": [
            "100%|██████████| 180/180 [00:13<00:00, 13.54it/s]\n"
          ],
          "name": "stderr"
        },
        {
          "output_type": "stream",
          "text": [
            "iter      5 :11.7524 a:0.9159 c 0.0001 e0.0001\n"
          ],
          "name": "stdout"
        },
        {
          "output_type": "display_data",
          "data": {
            "image/png": "[encoded data removed]",
            "text/plain": [
              "<Figure size 432x288 with 2 Axes>"
            ]
          },
          "metadata": {
            "tags": []
          }
        },
        {
          "output_type": "stream",
          "text": [
            "  1%|          | 2/180 [00:00<00:13, 13.44it/s]"
          ],
          "name": "stderr"
        },
        {
          "output_type": "stream",
          "text": [
            "iter      5 :AUC 0.8534723110048252\n"
          ],
          "name": "stdout"
        },
        {
          "output_type": "stream",
          "text": [
            "100%|██████████| 180/180 [00:13<00:00, 13.61it/s]\n"
          ],
          "name": "stderr"
        },
        {
          "output_type": "stream",
          "text": [
            "iter      6 :11.5879 a:0.9199 c 0.0000 e0.0001\n"
          ],
          "name": "stdout"
        },
        {
          "output_type": "display_data",
          "data": {
            "image/png": "[encoded data removed]",
            "text/plain": [
              "<Figure size 432x288 with 2 Axes>"
            ]
          },
          "metadata": {
            "tags": []
          }
        },
        {
          "output_type": "stream",
          "text": [
            "  1%|          | 2/180 [00:00<00:13, 13.56it/s]"
          ],
          "name": "stderr"
        },
        {
          "output_type": "stream",
          "text": [
            "iter      6 :AUC 0.8484570987596203\n"
          ],
          "name": "stdout"
        },
        {
          "output_type": "stream",
          "text": [
            "100%|██████████| 180/180 [00:13<00:00, 13.53it/s]\n"
          ],
          "name": "stderr"
        },
        {
          "output_type": "stream",
          "text": [
            "iter      7 :11.4865 a:0.9229 c 0.0000 e0.0000\n"
          ],
          "name": "stdout"
        },
        {
          "output_type": "display_data",
          "data": {
            "image/png": "[encoded data removed]",
            "text/plain": [
              "<Figure size 432x288 with 2 Axes>"
            ]
          },
          "metadata": {
            "tags": []
          }
        },
        {
          "output_type": "stream",
          "text": [
            "  1%|          | 2/180 [00:00<00:13, 13.66it/s]"
          ],
          "name": "stderr"
        },
        {
          "output_type": "stream",
          "text": [
            "iter      7 :AUC 0.8318543941084251\n"
          ],
          "name": "stdout"
        },
        {
          "output_type": "stream",
          "text": [
            "100%|██████████| 180/180 [00:13<00:00, 13.61it/s]\n"
          ],
          "name": "stderr"
        },
        {
          "output_type": "stream",
          "text": [
            "iter      8 :11.4035 a:0.9239 c 0.0000 e0.0000\n"
          ],
          "name": "stdout"
        },
        {
          "output_type": "display_data",
          "data": {
            "image/png": "[encoded data removed]",
            "text/plain": [
              "<Figure size 432x288 with 2 Axes>"
            ]
          },
          "metadata": {
            "tags": []
          }
        },
        {
          "output_type": "stream",
          "text": [
            "iter      8 :AUC 0.8254149712630674\n"
          ],
          "name": "stdout"
        },
        {
          "output_type": "stream",
          "text": [
            "100%|██████████| 180/180 [00:13<00:00, 13.59it/s]\n"
          ],
          "name": "stderr"
        },
        {
          "output_type": "stream",
          "text": [
            "iter      9 :11.3255 a:0.9264 c 0.0000 e0.0000\n"
          ],
          "name": "stdout"
        },
        {
          "output_type": "display_data",
          "data": {
            "image/png": "[encoded data removed]",
            "text/plain": [
              "<Figure size 432x288 with 2 Axes>"
            ]
          },
          "metadata": {
            "tags": []
          }
        },
        {
          "output_type": "stream",
          "text": [
            "  1%|          | 2/180 [00:00<00:13, 13.64it/s]"
          ],
          "name": "stderr"
        },
        {
          "output_type": "stream",
          "text": [
            "iter      9 :AUC 0.8223232994951862\n"
          ],
          "name": "stdout"
        },
        {
          "output_type": "stream",
          "text": [
            "100%|██████████| 180/180 [00:14<00:00, 12.81it/s]"
          ],
          "name": "stderr"
        },
        {
          "output_type": "stream",
          "text": [
            "iter     10 :11.2412 a:0.8557 c 0.0002 e0.0001\n"
          ],
          "name": "stdout"
        },
        {
          "output_type": "stream",
          "text": [
            "\n"
          ],
          "name": "stderr"
        },
        {
          "output_type": "display_data",
          "data": {
            "image/png": "[encoded data removed]",
            "text/plain": [
              "<Figure size 432x288 with 2 Axes>"
            ]
          },
          "metadata": {
            "tags": []
          }
        },
        {
          "output_type": "stream",
          "text": [
            "  1%|          | 2/180 [00:00<00:12, 13.74it/s]"
          ],
          "name": "stderr"
        },
        {
          "output_type": "stream",
          "text": [
            "iter     10 :AUC 0.8086982945261134\n"
          ],
          "name": "stdout"
        },
        {
          "output_type": "stream",
          "text": [
            "100%|██████████| 180/180 [00:13<00:00, 13.59it/s]\n"
          ],
          "name": "stderr"
        },
        {
          "output_type": "stream",
          "text": [
            "iter     11 :11.1929 a:0.8643 c 0.0001 e0.0000\n"
          ],
          "name": "stdout"
        },
        {
          "output_type": "display_data",
          "data": {
            "image/png": "[encoded data removed]",
            "text/plain": [
              "<Figure size 432x288 with 2 Axes>"
            ]
          },
          "metadata": {
            "tags": []
          }
        },
        {
          "output_type": "stream",
          "text": [
            "  1%|          | 2/180 [00:00<00:12, 13.90it/s]"
          ],
          "name": "stderr"
        },
        {
          "output_type": "stream",
          "text": [
            "iter     11 :AUC 0.8269547506593589\n"
          ],
          "name": "stdout"
        },
        {
          "output_type": "stream",
          "text": [
            "100%|██████████| 180/180 [00:13<00:00, 13.59it/s]\n"
          ],
          "name": "stderr"
        },
        {
          "output_type": "stream",
          "text": [
            "iter     12 :11.1533 a:0.8699 c 0.0000 e0.0000\n"
          ],
          "name": "stdout"
        },
        {
          "output_type": "display_data",
          "data": {
            "image/png": "[encoded data removed]",
            "text/plain": [
              "<Figure size 432x288 with 2 Axes>"
            ]
          },
          "metadata": {
            "tags": []
          }
        },
        {
          "output_type": "stream",
          "text": [
            "iter     12 :AUC 0.7839490083382418\n"
          ],
          "name": "stdout"
        },
        {
          "output_type": "stream",
          "text": [
            "100%|██████████| 180/180 [00:13<00:00, 13.47it/s]\n"
          ],
          "name": "stderr"
        },
        {
          "output_type": "stream",
          "text": [
            "iter     13 :11.1181 a:0.8726 c 0.0000 e0.0000\n"
          ],
          "name": "stdout"
        },
        {
          "output_type": "display_data",
          "data": {
            "image/png": "[encoded data removed]",
            "text/plain": [
              "<Figure size 432x288 with 2 Axes>"
            ]
          },
          "metadata": {
            "tags": []
          }
        },
        {
          "output_type": "stream",
          "text": [
            "  1%|          | 2/180 [00:00<00:13, 13.49it/s]"
          ],
          "name": "stderr"
        },
        {
          "output_type": "stream",
          "text": [
            "iter     13 :AUC 0.7759784503562371\n"
          ],
          "name": "stdout"
        },
        {
          "output_type": "stream",
          "text": [
            "100%|██████████| 180/180 [00:13<00:00, 13.08it/s]"
          ],
          "name": "stderr"
        },
        {
          "output_type": "stream",
          "text": [
            "iter     14 :11.0732 a:0.8240 c 0.0000 e0.0000\n"
          ],
          "name": "stdout"
        },
        {
          "output_type": "stream",
          "text": [
            "\n"
          ],
          "name": "stderr"
        },
        {
          "output_type": "display_data",
          "data": {
            "image/png": "[encoded data removed]",
            "text/plain": [
              "<Figure size 432x288 with 2 Axes>"
            ]
          },
          "metadata": {
            "tags": []
          }
        },
        {
          "output_type": "stream",
          "text": [
            "\r  0%|          | 0/180 [00:00<?, ?it/s]"
          ],
          "name": "stderr"
        },
        {
          "output_type": "stream",
          "text": [
            "iter     14 :AUC 0.8085051476290888\n"
          ],
          "name": "stdout"
        },
        {
          "output_type": "stream",
          "text": [
            "100%|██████████| 180/180 [00:14<00:00, 12.02it/s]"
          ],
          "name": "stderr"
        },
        {
          "output_type": "stream",
          "text": [
            "iter     15 :11.0262 a:0.8340 c 0.0001 e0.0001\n"
          ],
          "name": "stdout"
        },
        {
          "output_type": "stream",
          "text": [
            "\n"
          ],
          "name": "stderr"
        },
        {
          "output_type": "display_data",
          "data": {
            "image/png": "[encoded data removed]",
            "text/plain": [
              "<Figure size 432x288 with 2 Axes>"
            ]
          },
          "metadata": {
            "tags": []
          }
        },
        {
          "output_type": "stream",
          "text": [
            "iter     15 :AUC 0.8143885849082679\n"
          ],
          "name": "stdout"
        },
        {
          "output_type": "display_data",
          "data": {
            "image/png": "[encoded data removed]",
            "text/plain": [
              "<Figure size 432x288 with 1 Axes>"
            ]
          },
          "metadata": {
            "tags": [],
            "needs_background": "light"
          }
        }
      ]
    }
  ]
}