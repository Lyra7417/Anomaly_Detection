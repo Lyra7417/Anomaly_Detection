{
  "nbformat": 4,
  "nbformat_minor": 0,
  "metadata": {
    "colab": {
      "name": "Gaussian.ipynb",
      "provenance": [],
      "collapsed_sections": [],
      "authorship_tag": "ABX9TyOvB/wvLpSpAmmuk6Owy3k2",
      "include_colab_link": true
    },
    "kernelspec": {
      "name": "python3",
      "display_name": "Python 3"
    }
  },
  "cells": [
    {
      "cell_type": "markdown",
      "metadata": {
        "id": "view-in-github",
        "colab_type": "text"
      },
      "source": [
        "<a href=\"https://colab.research.google.com/github/Lyra7417/Anomaly_Detection/blob/master/Gaussian.ipynb\" target=\"_parent\"><img src=\"https://colab.research.google.com/assets/colab-badge.svg\" alt=\"Open In Colab\"/></a>"
      ]
    },
    {
      "cell_type": "code",
      "metadata": {
        "id": "hrmZl5r6KA5K",
        "colab_type": "code",
        "outputId": "bf78c1b2-6994-4b2c-8345-a9ef36431445",
        "colab": {
          "base_uri": "https://localhost:8080/",
          "height": 141
        }
      },
      "source": [
        "import os\n",
        "from google.colab import drive\n",
        "drive.mount('/content/drive')\n",
        "\n",
        "path = \"/content/drive/My Drive\"\n",
        "\n",
        "os.chdir(path)\n",
        "os.listdir(path)"
      ],
      "execution_count": 30,
      "outputs": [
        {
          "output_type": "stream",
          "text": [
            "Drive already mounted at /content/drive; to attempt to forcibly remount, call drive.mount(\"/content/drive\", force_remount=True).\n"
          ],
          "name": "stdout"
        },
        {
          "output_type": "execute_result",
          "data": {
            "text/plain": [
              "['CV.pdf',\n",
              " 'Measuring_Gender_Bias_in_Citations.pdf',\n",
              " 'Colab Notebooks',\n",
              " 'testSet3.txt',\n",
              " 'Gassian_dataset',\n",
              " 'data1.mat']"
            ]
          },
          "metadata": {
            "tags": []
          },
          "execution_count": 30
        }
      ]
    },
    {
      "cell_type": "code",
      "metadata": {
        "id": "hr1H0x6C5dtb",
        "colab_type": "code",
        "outputId": "b4c45758-0572-4aaa-a769-dbbff7771c63",
        "colab": {
          "base_uri": "https://localhost:8080/",
          "height": 1000
        }
      },
      "source": [
        "import numpy as np\n",
        "from matplotlib import pyplot as plt\n",
        "from scipy.stats import multivariate_normal\n",
        "from sklearn.metrics import f1_score\n",
        "from scipy import io as spio\n",
        "import warnings\n",
        "warnings.filterwarnings('ignore')\n",
        "\n",
        "#异常检测\n",
        "def AnomalyDetection():\n",
        "  train_data = np.loadtxt('Gassian_dataset/train.txt')\n",
        "  crossval_data_X, crossval_data_y = TXTtoArray('Gassian_dataset/crossval.txt')\n",
        "  test_data = np.loadtxt('Gassian_dataset/test.txt')\n",
        "\n",
        "  mu, sigma2 = estimateGaussian(train_data)\n",
        "  print(mu, sigma2)\n",
        "\n",
        "  p_cv = multivariateGaussian(crossval_data_X, mu ,sigma2)\n",
        "  epsilon, F1 = SelectThreshold(crossval_data_y, p_cv)\n",
        "  print(u'在交叉验证数据集上得到的最好的epsilon是：%e'%epsilon)\n",
        "  print(u'对应的F1Score值为：%f'%F1)\n",
        "\n",
        "  p = multivariateGaussian(test_data, mu, sigma2)\n",
        "  outliers = np.where(p < epsilon)\n",
        "\n",
        "  plt.figure(1)\n",
        "  plt.title('Training Dataset')\n",
        "  plt.plot(train_data[:,0], train_data[:,1],'b+')\n",
        "  plt.xlim(0, 25)\n",
        "  plt.ylim(5, 25)\n",
        "  plt.show()\n",
        "\n",
        "  plt.figure(2)\n",
        "  plt.title('Crossval Dataset')\n",
        "  plt.plot(crossval_data_X[:,0], crossval_data_X[:,1],'b+')\n",
        "  plt.xlim(0, 25)\n",
        "  plt.ylim(5, 25)\n",
        "  plt.show()\n",
        "\n",
        "  plt.figure(3)\n",
        "  plt.title('Test Dataset')\n",
        "  plt.plot(test_data[:,0], test_data[:,1],'b+')\n",
        "  plt.xlim(0, 25)\n",
        "  plt.ylim(5, 25)\n",
        "  plt.show() \n",
        "  \n",
        "  plt.figure(4)\n",
        "  plt.title('Anomaly Detection')\n",
        "  plt.plot(test_data[:,0],test_data[:,1],'b+')\n",
        "  plt.plot(test_data[outliers,0],test_data[outliers,1],'ro')  #把异常点标记红色\n",
        "  plt.xlim(0, 25)\n",
        "  plt.ylim(5, 25)\n",
        "  plt.show()\n",
        "\n",
        "\n",
        "#参数估计函数,求均值和方差\n",
        "def estimateGaussian(data):\n",
        "  mu = np.mean(data, axis=0)     #axis=0表示列，求每列的均值\n",
        "  sigma2 = np.var(data, axis=0)   #求每列的方差\n",
        "  return mu,sigma2\n",
        "\n",
        "#多元高斯分布函数\n",
        "def multivariateGaussian(data, mu, sigma2):\n",
        "  cov = np.cov(data.T)\n",
        "  p = multivariate_normal(mean=mu, cov=cov)\n",
        "  return p.pdf(data)\n",
        "\n",
        "def SelectThreshold(yval, pval):\n",
        "    num = 0\n",
        "    bestEpsilon = 0.\n",
        "    bestF1 = 0.\n",
        "    F1 = 0.\n",
        "    step = (np.max(pval)-np.min(pval))/1000\n",
        "    \n",
        "    for epsilon in np.arange(np.min(pval),np.max(pval),step):\n",
        "        num += 1\n",
        "        cvPrecision = pval<epsilon\n",
        "        tp = np.sum((cvPrecision == 1) & (yval == 1).ravel()).astype(float)  \n",
        "        fp = np.sum((cvPrecision == 1) & (yval == 0).ravel()).astype(float)\n",
        "        fn = np.sum((cvPrecision == 0) & (yval == 1).ravel()).astype(float)\n",
        "        precision = tp/(tp+fp)  #准确度\n",
        "        recision = tp/(tp+fn)   #召回率\n",
        "        F1 = (2*precision*recision)/(precision+recision)  #F1Score计算公式\n",
        "        if F1 > bestF1:  \n",
        "            bestF1 = F1\n",
        "            bestEpsilon = epsilon\n",
        "    print(num)\n",
        "    return bestEpsilon, bestF1\n",
        "\n",
        "def TXTtoArray(TXTfile):\n",
        "  file = open(TXTfile)\n",
        "  file_list = file.readlines() \n",
        "  Xval_lists = []\n",
        "  yval_lists = []\n",
        "  for string in file_list:\n",
        "      string = string.split()\n",
        "      Xval_lists.append(string[0:2])\n",
        "      yval_lists.append(string[2])\n",
        "      Xval = np.array(Xval_lists) \n",
        "      yval = np.array(yval_lists)\n",
        "      Xval= Xval.astype(float)\n",
        "      yval= yval.astype(float)\n",
        "  return Xval, yval\n",
        "\n",
        "\n",
        "if __name__ == '__main__':\n",
        "    AnomalyDetection()"
      ],
      "execution_count": 33,
      "outputs": [
        {
          "output_type": "stream",
          "text": [
            "[14.06411334 15.02441479] [0.93434723 0.8506542 ]\n",
            "1000\n",
            "在交叉验证数据集上得到的最好的epsilon是：1.248227e-03\n",
            "对应的F1Score值为：1.000000\n"
          ],
          "name": "stdout"
        },
        {
          "output_type": "display_data",
          "data": {
            "image/png": "[encoded data removed]",
            "text/plain": [
              "<Figure size 432x288 with 1 Axes>"
            ]
          },
          "metadata": {
            "tags": [],
            "needs_background": "light"
          }
        },
        {
          "output_type": "display_data",
          "data": {
            "image/png": "[encoded data removed]",
            "text/plain": [
              "<Figure size 432x288 with 1 Axes>"
            ]
          },
          "metadata": {
            "tags": [],
            "needs_background": "light"
          }
        },
        {
          "output_type": "display_data",
          "data": {
            "image/png": "[encoded data removed]",
            "text/plain": [
              "<Figure size 432x288 with 1 Axes>"
            ]
          },
          "metadata": {
            "tags": [],
            "needs_background": "light"
          }
        },
        {
          "output_type": "display_data",
          "data": {
            "image/png": "[encoded data removed]",
            "text/plain": [
              "<Figure size 432x288 with 1 Axes>"
            ]
          },
          "metadata": {
            "tags": [],
            "needs_background": "light"
          }
        }
      ]
    }
  ]
}